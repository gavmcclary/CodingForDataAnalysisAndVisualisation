{
 "cells": [
  {
   "cell_type": "markdown",
   "metadata": {},
   "source": [
    "# Descriptive Statistics for Psychology Students"
   ]
  },
  {
   "cell_type": "markdown",
   "metadata": {},
   "source": [
    "Import pandas (Data Analysis Library)"
   ]
  },
  {
   "cell_type": "markdown",
   "metadata": {},
   "source": [
    "Renaming as 'pd' is not strictly neccesary but can help reduce typing."
   ]
  },
  {
   "cell_type": "code",
   "execution_count": 1,
   "metadata": {},
   "outputs": [],
   "source": [
    "import pandas as pd"
   ]
  },
  {
   "cell_type": "markdown",
   "metadata": {},
   "source": [
    "Use pandas <strong>'read_csv'</strong> method to read in a .csv file and store in the variable named <strong>'data_file'</strong>"
   ]
  },
  {
   "cell_type": "code",
   "execution_count": 2,
   "metadata": {},
   "outputs": [],
   "source": [
    "data_frame = pd.read_csv('DATA/Average-prices-2018-02.csv')"
   ]
  },
  {
   "cell_type": "markdown",
   "metadata": {},
   "source": [
    "Use pandas <strong>head</strong> method to show the <strong>top 5</strong> rows of the dataframe."
   ]
  },
  {
   "cell_type": "code",
   "execution_count": 3,
   "metadata": {
    "scrolled": true
   },
   "outputs": [
    {
     "data": {
      "text/html": [
       "<div>\n",
       "<style scoped>\n",
       "    .dataframe tbody tr th:only-of-type {\n",
       "        vertical-align: middle;\n",
       "    }\n",
       "\n",
       "    .dataframe tbody tr th {\n",
       "        vertical-align: top;\n",
       "    }\n",
       "\n",
       "    .dataframe thead th {\n",
       "        text-align: right;\n",
       "    }\n",
       "</style>\n",
       "<table border=\"1\" class=\"dataframe\">\n",
       "  <thead>\n",
       "    <tr style=\"text-align: right;\">\n",
       "      <th></th>\n",
       "      <th>Date</th>\n",
       "      <th>Region_Name</th>\n",
       "      <th>Area_Code</th>\n",
       "      <th>Average_Price</th>\n",
       "      <th>Monthly_Change</th>\n",
       "      <th>Annual_Change</th>\n",
       "      <th>Average_Price_SA</th>\n",
       "    </tr>\n",
       "  </thead>\n",
       "  <tbody>\n",
       "    <tr>\n",
       "      <th>0</th>\n",
       "      <td>1968-04-01</td>\n",
       "      <td>England</td>\n",
       "      <td>E92000001</td>\n",
       "      <td>3408.108064</td>\n",
       "      <td>0.0</td>\n",
       "      <td>NaN</td>\n",
       "      <td>NaN</td>\n",
       "    </tr>\n",
       "    <tr>\n",
       "      <th>1</th>\n",
       "      <td>1968-04-01</td>\n",
       "      <td>Scotland</td>\n",
       "      <td>S92000003</td>\n",
       "      <td>2844.980688</td>\n",
       "      <td>0.0</td>\n",
       "      <td>NaN</td>\n",
       "      <td>NaN</td>\n",
       "    </tr>\n",
       "    <tr>\n",
       "      <th>2</th>\n",
       "      <td>1968-04-01</td>\n",
       "      <td>Northern Ireland</td>\n",
       "      <td>N92000001</td>\n",
       "      <td>3661.485500</td>\n",
       "      <td>0.0</td>\n",
       "      <td>NaN</td>\n",
       "      <td>NaN</td>\n",
       "    </tr>\n",
       "    <tr>\n",
       "      <th>3</th>\n",
       "      <td>1968-04-01</td>\n",
       "      <td>Wales</td>\n",
       "      <td>W92000004</td>\n",
       "      <td>2885.414162</td>\n",
       "      <td>0.0</td>\n",
       "      <td>NaN</td>\n",
       "      <td>NaN</td>\n",
       "    </tr>\n",
       "    <tr>\n",
       "      <th>4</th>\n",
       "      <td>1968-04-01</td>\n",
       "      <td>West Midlands Region</td>\n",
       "      <td>E12000005</td>\n",
       "      <td>3328.858802</td>\n",
       "      <td>0.0</td>\n",
       "      <td>NaN</td>\n",
       "      <td>NaN</td>\n",
       "    </tr>\n",
       "  </tbody>\n",
       "</table>\n",
       "</div>"
      ],
      "text/plain": [
       "         Date           Region_Name  Area_Code  Average_Price  Monthly_Change  \\\n",
       "0  1968-04-01               England  E92000001    3408.108064             0.0   \n",
       "1  1968-04-01              Scotland  S92000003    2844.980688             0.0   \n",
       "2  1968-04-01      Northern Ireland  N92000001    3661.485500             0.0   \n",
       "3  1968-04-01                 Wales  W92000004    2885.414162             0.0   \n",
       "4  1968-04-01  West Midlands Region  E12000005    3328.858802             0.0   \n",
       "\n",
       "   Annual_Change  Average_Price_SA  \n",
       "0            NaN               NaN  \n",
       "1            NaN               NaN  \n",
       "2            NaN               NaN  \n",
       "3            NaN               NaN  \n",
       "4            NaN               NaN  "
      ]
     },
     "execution_count": 3,
     "metadata": {},
     "output_type": "execute_result"
    }
   ],
   "source": [
    "data_frame.head()"
   ]
  },
  {
   "cell_type": "markdown",
   "metadata": {},
   "source": [
    "Use pandas <strong>info</strong> method to get info on <strong>datatypes</strong>."
   ]
  },
  {
   "cell_type": "code",
   "execution_count": 4,
   "metadata": {},
   "outputs": [
    {
     "name": "stdout",
     "output_type": "stream",
     "text": [
      "<class 'pandas.core.frame.DataFrame'>\n",
      "RangeIndex: 121023 entries, 0 to 121022\n",
      "Data columns (total 7 columns):\n",
      "Date                121023 non-null object\n",
      "Region_Name         121023 non-null object\n",
      "Area_Code           121023 non-null object\n",
      "Average_Price       121023 non-null float64\n",
      "Monthly_Change      120557 non-null float64\n",
      "Annual_Change       115707 non-null float64\n",
      "Average_Price_SA    3834 non-null float64\n",
      "dtypes: float64(4), object(3)\n",
      "memory usage: 6.5+ MB\n"
     ]
    }
   ],
   "source": [
    "data_frame.info()"
   ]
  },
  {
   "cell_type": "markdown",
   "metadata": {},
   "source": [
    "Use pandas <strong>tail</strong> method to show the <strong>last 5</strong> rows of the dataframe."
   ]
  },
  {
   "cell_type": "code",
   "execution_count": 5,
   "metadata": {},
   "outputs": [
    {
     "data": {
      "text/html": [
       "<div>\n",
       "<style scoped>\n",
       "    .dataframe tbody tr th:only-of-type {\n",
       "        vertical-align: middle;\n",
       "    }\n",
       "\n",
       "    .dataframe tbody tr th {\n",
       "        vertical-align: top;\n",
       "    }\n",
       "\n",
       "    .dataframe thead th {\n",
       "        text-align: right;\n",
       "    }\n",
       "</style>\n",
       "<table border=\"1\" class=\"dataframe\">\n",
       "  <thead>\n",
       "    <tr style=\"text-align: right;\">\n",
       "      <th></th>\n",
       "      <th>Date</th>\n",
       "      <th>Region_Name</th>\n",
       "      <th>Area_Code</th>\n",
       "      <th>Average_Price</th>\n",
       "      <th>Monthly_Change</th>\n",
       "      <th>Annual_Change</th>\n",
       "      <th>Average_Price_SA</th>\n",
       "    </tr>\n",
       "  </thead>\n",
       "  <tbody>\n",
       "    <tr>\n",
       "      <th>121018</th>\n",
       "      <td>2018-02-01</td>\n",
       "      <td>Pembrokeshire</td>\n",
       "      <td>W06000009</td>\n",
       "      <td>160952.7393</td>\n",
       "      <td>-1.617576</td>\n",
       "      <td>-0.848566</td>\n",
       "      <td>NaN</td>\n",
       "    </tr>\n",
       "    <tr>\n",
       "      <th>121019</th>\n",
       "      <td>2018-02-01</td>\n",
       "      <td>Carmarthenshire</td>\n",
       "      <td>W06000010</td>\n",
       "      <td>138802.7509</td>\n",
       "      <td>-0.930989</td>\n",
       "      <td>5.739570</td>\n",
       "      <td>NaN</td>\n",
       "    </tr>\n",
       "    <tr>\n",
       "      <th>121020</th>\n",
       "      <td>2018-02-01</td>\n",
       "      <td>England and Wales</td>\n",
       "      <td>K04000001</td>\n",
       "      <td>236909.2102</td>\n",
       "      <td>0.157427</td>\n",
       "      <td>4.110893</td>\n",
       "      <td>237248.2965</td>\n",
       "    </tr>\n",
       "    <tr>\n",
       "      <th>121021</th>\n",
       "      <td>2018-02-01</td>\n",
       "      <td>Great Britain</td>\n",
       "      <td>K03000001</td>\n",
       "      <td>227784.4930</td>\n",
       "      <td>-0.131574</td>\n",
       "      <td>4.313432</td>\n",
       "      <td>230442.7459</td>\n",
       "    </tr>\n",
       "    <tr>\n",
       "      <th>121022</th>\n",
       "      <td>2018-02-01</td>\n",
       "      <td>United Kingdom</td>\n",
       "      <td>K02000001</td>\n",
       "      <td>225047.1950</td>\n",
       "      <td>-0.060642</td>\n",
       "      <td>4.411545</td>\n",
       "      <td>225369.3132</td>\n",
       "    </tr>\n",
       "  </tbody>\n",
       "</table>\n",
       "</div>"
      ],
      "text/plain": [
       "              Date        Region_Name  Area_Code  Average_Price  \\\n",
       "121018  2018-02-01      Pembrokeshire  W06000009    160952.7393   \n",
       "121019  2018-02-01    Carmarthenshire  W06000010    138802.7509   \n",
       "121020  2018-02-01  England and Wales  K04000001    236909.2102   \n",
       "121021  2018-02-01      Great Britain  K03000001    227784.4930   \n",
       "121022  2018-02-01     United Kingdom  K02000001    225047.1950   \n",
       "\n",
       "        Monthly_Change  Annual_Change  Average_Price_SA  \n",
       "121018       -1.617576      -0.848566               NaN  \n",
       "121019       -0.930989       5.739570               NaN  \n",
       "121020        0.157427       4.110893       237248.2965  \n",
       "121021       -0.131574       4.313432       230442.7459  \n",
       "121022       -0.060642       4.411545       225369.3132  "
      ]
     },
     "execution_count": 5,
     "metadata": {},
     "output_type": "execute_result"
    }
   ],
   "source": [
    "data_frame.tail()"
   ]
  },
  {
   "cell_type": "markdown",
   "metadata": {},
   "source": [
    "Get the <strong>number of rows</strong> in the data frame."
   ]
  },
  {
   "cell_type": "code",
   "execution_count": 6,
   "metadata": {},
   "outputs": [
    {
     "data": {
      "text/plain": [
       "121023"
      ]
     },
     "execution_count": 6,
     "metadata": {},
     "output_type": "execute_result"
    }
   ],
   "source": [
    "len(data_frame)"
   ]
  },
  {
   "cell_type": "markdown",
   "metadata": {},
   "source": [
    "Change to two decimal places."
   ]
  },
  {
   "cell_type": "code",
   "execution_count": 7,
   "metadata": {},
   "outputs": [],
   "source": [
    "pd.set_option(\"display.precision\", 2)"
   ]
  },
  {
   "cell_type": "markdown",
   "metadata": {},
   "source": [
    "Check it has taken effect."
   ]
  },
  {
   "cell_type": "code",
   "execution_count": 8,
   "metadata": {},
   "outputs": [
    {
     "data": {
      "text/html": [
       "<div>\n",
       "<style scoped>\n",
       "    .dataframe tbody tr th:only-of-type {\n",
       "        vertical-align: middle;\n",
       "    }\n",
       "\n",
       "    .dataframe tbody tr th {\n",
       "        vertical-align: top;\n",
       "    }\n",
       "\n",
       "    .dataframe thead th {\n",
       "        text-align: right;\n",
       "    }\n",
       "</style>\n",
       "<table border=\"1\" class=\"dataframe\">\n",
       "  <thead>\n",
       "    <tr style=\"text-align: right;\">\n",
       "      <th></th>\n",
       "      <th>Date</th>\n",
       "      <th>Region_Name</th>\n",
       "      <th>Area_Code</th>\n",
       "      <th>Average_Price</th>\n",
       "      <th>Monthly_Change</th>\n",
       "      <th>Annual_Change</th>\n",
       "      <th>Average_Price_SA</th>\n",
       "    </tr>\n",
       "  </thead>\n",
       "  <tbody>\n",
       "    <tr>\n",
       "      <th>121018</th>\n",
       "      <td>2018-02-01</td>\n",
       "      <td>Pembrokeshire</td>\n",
       "      <td>W06000009</td>\n",
       "      <td>160952.74</td>\n",
       "      <td>-1.62</td>\n",
       "      <td>-0.85</td>\n",
       "      <td>NaN</td>\n",
       "    </tr>\n",
       "    <tr>\n",
       "      <th>121019</th>\n",
       "      <td>2018-02-01</td>\n",
       "      <td>Carmarthenshire</td>\n",
       "      <td>W06000010</td>\n",
       "      <td>138802.75</td>\n",
       "      <td>-0.93</td>\n",
       "      <td>5.74</td>\n",
       "      <td>NaN</td>\n",
       "    </tr>\n",
       "    <tr>\n",
       "      <th>121020</th>\n",
       "      <td>2018-02-01</td>\n",
       "      <td>England and Wales</td>\n",
       "      <td>K04000001</td>\n",
       "      <td>236909.21</td>\n",
       "      <td>0.16</td>\n",
       "      <td>4.11</td>\n",
       "      <td>237248.30</td>\n",
       "    </tr>\n",
       "    <tr>\n",
       "      <th>121021</th>\n",
       "      <td>2018-02-01</td>\n",
       "      <td>Great Britain</td>\n",
       "      <td>K03000001</td>\n",
       "      <td>227784.49</td>\n",
       "      <td>-0.13</td>\n",
       "      <td>4.31</td>\n",
       "      <td>230442.75</td>\n",
       "    </tr>\n",
       "    <tr>\n",
       "      <th>121022</th>\n",
       "      <td>2018-02-01</td>\n",
       "      <td>United Kingdom</td>\n",
       "      <td>K02000001</td>\n",
       "      <td>225047.20</td>\n",
       "      <td>-0.06</td>\n",
       "      <td>4.41</td>\n",
       "      <td>225369.31</td>\n",
       "    </tr>\n",
       "  </tbody>\n",
       "</table>\n",
       "</div>"
      ],
      "text/plain": [
       "              Date        Region_Name  Area_Code  Average_Price  \\\n",
       "121018  2018-02-01      Pembrokeshire  W06000009      160952.74   \n",
       "121019  2018-02-01    Carmarthenshire  W06000010      138802.75   \n",
       "121020  2018-02-01  England and Wales  K04000001      236909.21   \n",
       "121021  2018-02-01      Great Britain  K03000001      227784.49   \n",
       "121022  2018-02-01     United Kingdom  K02000001      225047.20   \n",
       "\n",
       "        Monthly_Change  Annual_Change  Average_Price_SA  \n",
       "121018           -1.62          -0.85               NaN  \n",
       "121019           -0.93           5.74               NaN  \n",
       "121020            0.16           4.11         237248.30  \n",
       "121021           -0.13           4.31         230442.75  \n",
       "121022           -0.06           4.41         225369.31  "
      ]
     },
     "execution_count": 8,
     "metadata": {},
     "output_type": "execute_result"
    }
   ],
   "source": [
    "data_frame.tail()"
   ]
  },
  {
   "cell_type": "markdown",
   "metadata": {},
   "source": [
    "Get some basic descriptive statistics using the <strong>describe</strong> method."
   ]
  },
  {
   "cell_type": "code",
   "execution_count": 9,
   "metadata": {},
   "outputs": [
    {
     "data": {
      "text/html": [
       "<div>\n",
       "<style scoped>\n",
       "    .dataframe tbody tr th:only-of-type {\n",
       "        vertical-align: middle;\n",
       "    }\n",
       "\n",
       "    .dataframe tbody tr th {\n",
       "        vertical-align: top;\n",
       "    }\n",
       "\n",
       "    .dataframe thead th {\n",
       "        text-align: right;\n",
       "    }\n",
       "</style>\n",
       "<table border=\"1\" class=\"dataframe\">\n",
       "  <thead>\n",
       "    <tr style=\"text-align: right;\">\n",
       "      <th></th>\n",
       "      <th>Average_Price</th>\n",
       "      <th>Monthly_Change</th>\n",
       "      <th>Annual_Change</th>\n",
       "      <th>Average_Price_SA</th>\n",
       "    </tr>\n",
       "  </thead>\n",
       "  <tbody>\n",
       "    <tr>\n",
       "      <th>count</th>\n",
       "      <td>1.21e+05</td>\n",
       "      <td>120557.00</td>\n",
       "      <td>115707.00</td>\n",
       "      <td>3834.00</td>\n",
       "    </tr>\n",
       "    <tr>\n",
       "      <th>mean</th>\n",
       "      <td>1.51e+05</td>\n",
       "      <td>0.60</td>\n",
       "      <td>7.05</td>\n",
       "      <td>142085.91</td>\n",
       "    </tr>\n",
       "    <tr>\n",
       "      <th>std</th>\n",
       "      <td>9.86e+04</td>\n",
       "      <td>2.06</td>\n",
       "      <td>9.42</td>\n",
       "      <td>70399.99</td>\n",
       "    </tr>\n",
       "    <tr>\n",
       "      <th>min</th>\n",
       "      <td>2.71e+03</td>\n",
       "      <td>-30.30</td>\n",
       "      <td>-35.79</td>\n",
       "      <td>40405.31</td>\n",
       "    </tr>\n",
       "    <tr>\n",
       "      <th>25%</th>\n",
       "      <td>8.24e+04</td>\n",
       "      <td>-0.45</td>\n",
       "      <td>1.72</td>\n",
       "      <td>87284.77</td>\n",
       "    </tr>\n",
       "    <tr>\n",
       "      <th>50%</th>\n",
       "      <td>1.36e+05</td>\n",
       "      <td>0.56</td>\n",
       "      <td>6.17</td>\n",
       "      <td>137658.66</td>\n",
       "    </tr>\n",
       "    <tr>\n",
       "      <th>75%</th>\n",
       "      <td>1.94e+05</td>\n",
       "      <td>1.59</td>\n",
       "      <td>11.67</td>\n",
       "      <td>177898.82</td>\n",
       "    </tr>\n",
       "    <tr>\n",
       "      <th>max</th>\n",
       "      <td>1.46e+06</td>\n",
       "      <td>35.29</td>\n",
       "      <td>98.44</td>\n",
       "      <td>481337.12</td>\n",
       "    </tr>\n",
       "  </tbody>\n",
       "</table>\n",
       "</div>"
      ],
      "text/plain": [
       "       Average_Price  Monthly_Change  Annual_Change  Average_Price_SA\n",
       "count       1.21e+05       120557.00      115707.00           3834.00\n",
       "mean        1.51e+05            0.60           7.05         142085.91\n",
       "std         9.86e+04            2.06           9.42          70399.99\n",
       "min         2.71e+03          -30.30         -35.79          40405.31\n",
       "25%         8.24e+04           -0.45           1.72          87284.77\n",
       "50%         1.36e+05            0.56           6.17         137658.66\n",
       "75%         1.94e+05            1.59          11.67         177898.82\n",
       "max         1.46e+06           35.29          98.44         481337.12"
      ]
     },
     "execution_count": 9,
     "metadata": {},
     "output_type": "execute_result"
    }
   ],
   "source": [
    "data_frame.describe()"
   ]
  },
  {
   "cell_type": "markdown",
   "metadata": {},
   "source": [
    "# Exploratory data analysis"
   ]
  },
  {
   "cell_type": "code",
   "execution_count": 10,
   "metadata": {},
   "outputs": [
    {
     "data": {
      "text/plain": [
       "Yorkshire and The Humber    599\n",
       "London                      599\n",
       "United Kingdom              599\n",
       "Wales                       599\n",
       "South West                  599\n",
       "                           ... \n",
       "Causeway Coast and Glens    158\n",
       "Mid and East Antrim         158\n",
       "Lisburn and Castlereagh     158\n",
       "Newry Mourne and Down       158\n",
       "Ards and North Down         158\n",
       "Name: Region_Name, Length: 441, dtype: int64"
      ]
     },
     "execution_count": 10,
     "metadata": {},
     "output_type": "execute_result"
    }
   ],
   "source": [
    "data_frame[\"Region_Name\"].value_counts()"
   ]
  },
  {
   "cell_type": "code",
   "execution_count": 11,
   "metadata": {},
   "outputs": [
    {
     "data": {
      "text/plain": [
       "S92000003    599\n",
       "E12000005    599\n",
       "K02000001    599\n",
       "E12000009    599\n",
       "E12000007    599\n",
       "            ... \n",
       "N09000006    158\n",
       "N09000004    158\n",
       "N09000011    158\n",
       "N09000003    158\n",
       "N09000010    158\n",
       "Name: Area_Code, Length: 441, dtype: int64"
      ]
     },
     "execution_count": 11,
     "metadata": {},
     "output_type": "execute_result"
    }
   ],
   "source": [
    "data_frame[\"Area_Code\"].value_counts()"
   ]
  },
  {
   "cell_type": "markdown",
   "metadata": {},
   "source": [
    "# Data Visualisation\n"
   ]
  },
  {
   "cell_type": "code",
   "execution_count": 12,
   "metadata": {},
   "outputs": [],
   "source": [
    "%matplotlib inline"
   ]
  },
  {
   "cell_type": "code",
   "execution_count": 13,
   "metadata": {},
   "outputs": [
    {
     "data": {
      "text/plain": [
       "<matplotlib.axes._subplots.AxesSubplot at 0x10d73e630>"
      ]
     },
     "execution_count": 13,
     "metadata": {},
     "output_type": "execute_result"
    },
    {
     "data": {
      "image/png": "[encoded data removed]",
      "text/plain": [
       "<Figure size 432x288 with 1 Axes>"
      ]
     },
     "metadata": {
      "needs_background": "light"
     },
     "output_type": "display_data"
    }
   ],
   "source": [
    "data_frame['Average_Price'].value_counts().head(10).plot()"
   ]
  },
  {
   "cell_type": "code",
   "execution_count": null,
   "metadata": {},
   "outputs": [],
   "source": []
  }
 ],
 "metadata": {
  "kernelspec": {
   "display_name": "Python 3",
   "language": "python",
   "name": "python3"
  },
  "language_info": {
   "codemirror_mode": {
    "name": "ipython",
    "version": 3
   },
   "file_extension": ".py",
   "mimetype": "text/x-python",
   "name": "python",
   "nbconvert_exporter": "python",
   "pygments_lexer": "ipython3",
   "version": "3.7.2"
  }
 },
 "nbformat": 4,
 "nbformat_minor": 4
}
